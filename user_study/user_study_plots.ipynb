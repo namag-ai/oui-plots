{
 "cells": [
  {
   "cell_type": "markdown",
   "metadata": {},
   "source": [
    "# User study questionnaire  \n",
    "Mock and plots"
   ]
  },
  {
   "cell_type": "markdown",
   "metadata": {},
   "source": [
    "Reference: KMunicate - https://bmjopen.bmj.com/content/9/9/e030215\n"
   ]
  },
  {
   "cell_type": "code",
   "execution_count": null,
   "metadata": {},
   "outputs": [],
   "source": [
    "# TODO: generate 7 features: X0, XA, XA, XAY, XAY, XY, XY\n"
   ]
  },
  {
   "cell_type": "code",
   "execution_count": null,
   "metadata": {},
   "outputs": [],
   "source": [
    "# TODO: generate results"
   ]
  },
  {
   "cell_type": "markdown",
   "metadata": {},
   "source": [
    "## Main part\n",
    " * how much do you agree with the problem (Setting/setup)\n",
    " * how much do you agree with the need for a solution\n",
    " * how much did the visualization improve your interpretation. \n",
    " [also allow for additional free-text comments on each]"
   ]
  },
  {
   "cell_type": "code",
   "execution_count": null,
   "metadata": {},
   "outputs": [],
   "source": []
  },
  {
   "cell_type": "markdown",
   "metadata": {},
   "source": [
    "### Participant details\n",
    "\n",
    "* Principle role / background (school of causality)\n",
    "* experience in causality years\n",
    "* familiarity with Matching / IPW\n",
    "* experience in reading/interpreting Love plots [years]   ?   # really break it down to reading/generating?\n",
    "* experience in generating Love plots [years] ?\n",
    "* continent of primary work\n"
   ]
  },
  {
   "cell_type": "markdown",
   "metadata": {},
   "source": [
    "## Ablation\n",
    "Compare against standard Love plot:\n",
    " * size\n",
    " * opacity\n",
    " * order\n",
    " * (size, opacity)\n",
    " * (size, opacity, order)\n",
    " [score each 0-10] [‘Less useful’, ‘Equal/no preference’, ‘A bit more useful’, ‘Somewhat more useful’ and ‘Much more useful’]\n",
    " [Then rank]\n",
    " [free text comments]"
   ]
  },
  {
   "cell_type": "code",
   "execution_count": null,
   "metadata": {},
   "outputs": [],
   "source": []
  }
 ],
 "metadata": {
  "kernelspec": {
   "display_name": ".venv",
   "language": "python",
   "name": "python3"
  },
  "language_info": {
   "codemirror_mode": {
    "name": "ipython",
    "version": 3
   },
   "file_extension": ".py",
   "mimetype": "text/x-python",
   "name": "python",
   "nbconvert_exporter": "python",
   "pygments_lexer": "ipython3",
   "version": "3.11.9"
  }
 },
 "nbformat": 4,
 "nbformat_minor": 2
}
